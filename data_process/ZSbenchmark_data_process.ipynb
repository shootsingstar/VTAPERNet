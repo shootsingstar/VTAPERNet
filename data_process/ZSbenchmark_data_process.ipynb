{
 "cells": [
  {
   "cell_type": "code",
   "execution_count": 3,
   "metadata": {},
   "outputs": [],
   "source": [
    "import pandas as pd\n",
    "import numpy as np\n",
    "\n",
    "def clean_allele_filename(filename):\n",
    "    return filename.replace('/', '&').replace('*', '_').replace(':', '')\n",
    "\n",
    "out_dir = '../processed_data/STDbenchmark_allele'\n",
    "\n",
    "df_all_allele = pd.read_csv('../original_data/STDbenchmark.csv')\n",
    "\n",
    "#Reset index\n",
    "df_all_allele = df_all_allele.reset_index(drop = True)\n",
    "#Data normalization [1-log10(IC50)/log10(50000 nM)], IC50 unit is nM, same as MHCflurry paper\n",
    "df_all_allele[\"Normalized_QM\"] = 1 - (np.log(df_all_allele[\"Quantitative measurement\"]) / np.log(50000))\n",
    "df_all_allele.to_csv('../processed_data/STDbenchmark.csv', index=False) \n",
    "\n",
    "\n",
    "\n",
    "for allele, group in df_all_allele.groupby('allele'):\n",
    "    #Processing allele file names\n",
    "    cleaned_allele = clean_allele_filename(allele)\n",
    "    group['allele'] = cleaned_allele\n",
    "    group.to_csv(f'{out_dir}/{cleaned_allele}.csv', index=False)\n"
   ]
  }
 ],
 "metadata": {
  "kernelspec": {
   "display_name": "molmap",
   "language": "python",
   "name": "python3"
  },
  "language_info": {
   "codemirror_mode": {
    "name": "ipython",
    "version": 3
   },
   "file_extension": ".py",
   "mimetype": "text/x-python",
   "name": "python",
   "nbconvert_exporter": "python",
   "pygments_lexer": "ipython3",
   "version": "3.7.12"
  }
 },
 "nbformat": 4,
 "nbformat_minor": 2
}
