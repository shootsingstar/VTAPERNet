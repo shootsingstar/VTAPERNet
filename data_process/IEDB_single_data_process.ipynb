{
 "cells": [
  {
   "cell_type": "code",
   "execution_count": 2,
   "metadata": {},
   "outputs": [],
   "source": [
    "import pandas as pd\n",
    "import numpy as np\n",
    "import os"
   ]
  },
  {
   "cell_type": "markdown",
   "metadata": {},
   "source": [
    "select needed columns from original IEDB data all columns"
   ]
  },
  {
   "cell_type": "code",
   "execution_count": 3,
   "metadata": {},
   "outputs": [],
   "source": [
    "Epitope_header = \"Epitope\"\n",
    "Assay_header = \"Assay\"\n",
    "Reference_header = \"Reference\"\n",
    "Host_header = \"Host\"\n",
    "MHC_Restriction_header = \"MHC Restriction\"\n",
    "\n",
    "columns_ls = [\n",
    "    (Epitope_header, \"Name\"),\n",
    "    (Assay_header, \"Qualitative Measurement\"),\n",
    "    (Assay_header, \"Measurement Inequality\"),\n",
    "    (Assay_header, \"Quantitative measurement\"),\n",
    "    (Assay_header, \"Units\"),\n",
    "    (MHC_Restriction_header, \"Name\"),\n",
    "    (MHC_Restriction_header, \"Class\"),\n",
    "    (Reference_header, \"Type\"),\n",
    "    (Reference_header, \"Date\"),\n",
    "    (Reference_header, \"Title\"),\n",
    "    (Assay_header, \"Method\"),\n",
    "    (Assay_header, \"Response measured\"),\n",
    "    (Host_header, \"Name\")\n",
    "]\n",
    "\n",
    "new_columns_ls = [\n",
    "    'Description',\n",
    "    'Qualitative Measure',\n",
    "    'Measurement Inequality',\n",
    "    'Quantitative measurement',\n",
    "    'Units',\n",
    "    'Allele Name',\n",
    "    'MHC allele class',\n",
    "    'Ref Type',\n",
    "    'Ref Date',\n",
    "    'Ref Title',\n",
    "    'Assay Method',\n",
    "    'Assay Group',\n",
    "    'Host Name'\n",
    "]\n",
    "\n",
    " # source file directory\n",
    "original_data = '../original_data/mhc_ligand_full.csv'\n",
    "column_filter = '../processed_data/mhc_ligand_full_column_filter.csv'"
   ]
  },
  {
   "cell_type": "code",
   "execution_count": 4,
   "metadata": {},
   "outputs": [
    {
     "name": "stderr",
     "output_type": "stream",
     "text": [
      "/mnt/zt/Anaconda3/envs/molmap/lib/python3.7/site-packages/IPython/core/interactiveshell.py:3257: DtypeWarning: Columns (6,12,13,14,17,18,19,20,21,22,23,24,25,26,27,28,29,30,33,34,35,36,37,38,39,40,41,42,45,46,47,48,49,50,51,52,53,54,55,56,57,60,61,62,63,64,65,66,67,68,70,71,72,73,74,75,76,79,80,81,82,83,84,85,86,87,88,89,92,95,100,101,102,103,104,105,106,109,110) have mixed types.Specify dtype option on import or set low_memory=False.\n",
      "  interactivity=interactivity, compiler=compiler, result=result)\n"
     ]
    }
   ],
   "source": [
    "# There are 2 headers in the original_data, header=[0, 1]\n",
    "df = pd.read_csv(original_data, header=[0, 1])"
   ]
  },
  {
   "cell_type": "code",
   "execution_count": 5,
   "metadata": {},
   "outputs": [],
   "source": [
    "# select needed columns, save the new csv file to processed_data directory\n",
    "df_need = df[columns_ls]\n",
    "df_need.columns = [new_columns_ls]\n",
    "df_need.to_csv(column_filter, index=False)"
   ]
  },
  {
   "cell_type": "markdown",
   "metadata": {},
   "source": [
    "filter available data from processed_data"
   ]
  },
  {
   "cell_type": "code",
   "execution_count": 6,
   "metadata": {},
   "outputs": [
    {
     "name": "stderr",
     "output_type": "stream",
     "text": [
      "/mnt/zt/Anaconda3/envs/molmap/lib/python3.7/site-packages/IPython/core/interactiveshell.py:3257: DtypeWarning: Columns (2,4) have mixed types.Specify dtype option on import or set low_memory=False.\n",
      "  interactivity=interactivity, compiler=compiler, result=result)\n"
     ]
    }
   ],
   "source": [
    "# read the selected columns csv file\n",
    "df_all = pd.read_csv('../processed_data/mhc_ligand_full_column_filter.csv')"
   ]
  },
  {
   "cell_type": "code",
   "execution_count": 7,
   "metadata": {},
   "outputs": [],
   "source": [
    "desired_host = ['Homo sapiens (human)', 'human (Homo sapiens)']\n",
    "assay_groups_to_remove = [\n",
    "    '3D structure', '50% dissociation temperature', 'half life',\n",
    "    'off rate', 'on rate', 'qualitative binding'\n",
    "]\n",
    "measurement_inequalities_to_remove = ['>', '<', '>=', '<=']\n",
    "\n",
    "# select host --Homo sapiens (human) or human(Homo sapiens)\n",
    "is_human_host = df_all['Host Name'].isin(desired_host)\n",
    "\n",
    "# select data with 'Quantitative measurement'\n",
    "has_quantitative_measurement = df_all['Quantitative measurement'].notnull()\n",
    "\n",
    "# select standard peptide sequence without 'B X J Z', delete data with '-' or ' '\n",
    "is_valid_peptide_sequence = ~df_all['Description'].str.contains('-| |B|X|J|Z', regex=True, na=False)\n",
    "\n",
    "# select accurate allele name with 'HLA' and ':'\n",
    "is_precise_allele_name = df_all['Allele Name'].str.contains('HLA') & df_all['Allele Name'].str.contains(\":\")\n",
    "\n",
    "# select “KD”,“IC50” and “EC50” related BAV 'Assay Group' , delete others like '3D structure' in assay_groups_to_remove\n",
    "is_relevant_assay_group = ~df_all['Assay Group'].isin(assay_groups_to_remove)\n",
    "\n",
    "# select 'Units'='nM' data and 'Measurement Inequality' != '>', '<', '>=' and '<=' data\n",
    "is_valid_measurement = (df_all['Units'] == 'nM') & ~df_all['Measurement Inequality'].isin(measurement_inequalities_to_remove)\n",
    "\n",
    "# select 'Quantitative measurement' <= 50000 data\n",
    "is_low_measurement = df_all['Quantitative measurement'] <= 50000\n",
    "\n",
    "#Apply all conditions to filter data frame\n",
    "df_desired = df_all[\n",
    "    is_human_host &\n",
    "    has_quantitative_measurement &\n",
    "    is_valid_peptide_sequence &\n",
    "    is_precise_allele_name &\n",
    "    is_relevant_assay_group &\n",
    "    is_valid_measurement &\n",
    "    is_low_measurement\n",
    "]\n"
   ]
  },
  {
   "cell_type": "code",
   "execution_count": 8,
   "metadata": {},
   "outputs": [],
   "source": [
    "#reset index\n",
    "df_desired = df_desired.reset_index(drop = True)\n",
    "#add column Description_Length\n",
    "df_desired['Description_Length'] = df_desired['Description'].str.len()\n",
    "#Data normalization [1-log10(IC50)/log10(50000 nM)], IC50 unit is nM, same as MHCflurry paper\n",
    "df_desired[\"Normalized_QM\"] = 1 - (np.log(df_desired[\"Quantitative measurement\"]) / np.log(50000))\n",
    "df_desired.to_csv('../processed_data/mhc_ligand_desired_column_filter.csv', index=False) "
   ]
  },
  {
   "cell_type": "code",
   "execution_count": 11,
   "metadata": {},
   "outputs": [],
   "source": [
    "df_desired = pd.read_csv('../processed_data/mhc_ligand_desired_column_filter.csv')\n",
    "\n",
    "#Filter data for MHC class I\n",
    "filtered_MHC_I_df = df_desired[df_desired['MHC allele class'] == 'I']\n",
    "\n",
    "#The earliest year in the test set\n",
    "after_year = 2022\n",
    "\n",
    "#iedb web tools only support MHC class I with peptide length during 8-14\n",
    "filtered_df = df_desired[(df_desired['Ref Date'] >= after_year) & (df_desired['MHC allele class'] == 'I') & (df_desired['Description_Length'] <= 14)]\n",
    "\n",
    "output_file = f'../processed_data/mhc_ligand_{after_year}_MHC_I_desired_column_filter.csv'\n",
    "filtered_df.to_csv(output_file, index=False)"
   ]
  },
  {
   "cell_type": "markdown",
   "metadata": {},
   "source": [
    "get IEDB_new_released_dataset"
   ]
  },
  {
   "cell_type": "code",
   "execution_count": 6,
   "metadata": {},
   "outputs": [],
   "source": [
    "#The smallest size in the test set\n",
    "allele_size_cutoff = 0\n",
    "#The earliest year in the test set\n",
    "after_year = 2022\n",
    "\n",
    "df_desired = pd.read_csv(f'../processed_data/mhc_ligand_{after_year}_MHC_I_desired_column_filter.csv')\n",
    "out_dir = f'../processed_data/{after_year}_MHC_I/data'\n",
    "os.makedirs(out_dir, exist_ok=True)\n",
    "for name, group in df_desired.groupby('Allele Name') :\n",
    "    # change the allele name to a valid file name\n",
    "    name = name.replace('/', '&')\n",
    "    name = name.replace('*','_')\n",
    "    name = name.replace(':','')\n",
    "    \n",
    "    # skip alleles with less than 10 data points and HLA-A_3303\n",
    "    # HLA-A_3303 is only in 2022 data, not in the training data(before 2017), so most tools do not support it.\n",
    "    if (len(group) < allele_size_cutoff) | (name == 'HLA-A_3303') :\n",
    "        continue\n",
    "    group.to_csv(f'{out_dir}/{name}.csv', index=False)"
   ]
  },
  {
   "cell_type": "code",
   "execution_count": 7,
   "metadata": {},
   "outputs": [],
   "source": [
    "# statistics of IEDB_new_released_dataset\n",
    "files_dir = f'../processed_data/{after_year}_MHC_I/data'\n",
    "files = os.listdir(files_dir)\n",
    "statistic = []\n",
    "for file in files:\n",
    "    df = pd.read_csv(os.path.join(files_dir,file))\n",
    "    file_name = file.split('.')[0]\n",
    "    # number of the peptides\n",
    "    pep_num = len(df)\n",
    "\n",
    "    # peptide length range\n",
    "    pep_len_min = min(map(len,df['Description']))\n",
    "    pep_len_max = max(map(len,df['Description']))\n",
    "\n",
    "    # Quantitative measurement range\n",
    "    QM_min = min(df['Quantitative measurement'])\n",
    "    QM_max = max(df['Quantitative measurement'])\n",
    "    \n",
    "    # logarithm of Quantitative measurement range\n",
    "    Normalized_QM_min = min(df['Normalized_QM'])\n",
    "    Normalized_QM_max = max(df['Normalized_QM'])\n",
    "\n",
    "    statistic.append([file_name,pep_num,pep_len_min,pep_len_max,QM_min,QM_max,Normalized_QM_min,Normalized_QM_max])\n",
    "    \n",
    "df_stt = pd.DataFrame(statistic,columns=['HLA-allele','pep_num','pep_len_min','pep_len_max','QM_min','QM_max','Normalized_QM_min','Normalized_QM_max'])\n",
    "df_stt.sort_values(by='pep_num',axis=0,ascending=False, inplace=True)\n",
    "df_stt = df_stt.reset_index(drop = True)\n",
    "df_stt.to_csv(f'../processed_data/{after_year}_MHC_I/statistics.csv', index=False)\n"
   ]
  }
 ],
 "metadata": {
  "kernelspec": {
   "display_name": "molmap",
   "language": "python",
   "name": "python3"
  },
  "language_info": {
   "codemirror_mode": {
    "name": "ipython",
    "version": 3
   },
   "file_extension": ".py",
   "mimetype": "text/x-python",
   "name": "python",
   "nbconvert_exporter": "python",
   "pygments_lexer": "ipython3",
   "version": "3.7.12"
  },
  "orig_nbformat": 4
 },
 "nbformat": 4,
 "nbformat_minor": 2
}
