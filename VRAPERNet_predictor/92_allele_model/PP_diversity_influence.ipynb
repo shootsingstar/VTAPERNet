{
 "cells": [
  {
   "cell_type": "code",
   "execution_count": 31,
   "metadata": {},
   "outputs": [],
   "source": [
    "import os, warnings\n",
    "warnings.filterwarnings('ignore')\n",
    "# NVIDIA SETTINGS \n",
    "# Please configure according to the situation of your own device\n",
    "os.environ['TF_CPP_MIN_LOG_LEVEL'] = '3'\n",
    "os.environ['CUDA_VISIBLE_DEVICES'] = '2'\n",
    "\n",
    "import tensorflow as tf\n",
    "import gc\n",
    "\n",
    "gpus = tf.config.experimental.list_physical_devices(device_type='GPU')\n",
    "for gpu in gpus:\n",
    "    tf.config.experimental.set_memory_growth(gpu, True)\n",
    "\n",
    "import pandas as pd\n",
    "import numpy as np\n",
    "\n",
    "from joblib import load, dump\n",
    "\n",
    "def r2_score(y_true,y_pred):\n",
    "    y_mean = np.mean(y_true)\n",
    "    r2 = 1-sum((y_true-y_pred)**2)/sum((y_mean-y_true)**2)\n",
    "    return r2\n",
    "\n",
    "def PCC(y_pred,y_true):\n",
    "    diff_pred,diff_true=y_pred-np.mean(y_pred),y_true-np.mean(y_true)\n",
    "    return np.sum(diff_pred*diff_true)/np.sqrt(np.sum(diff_pred**2)*np.sum(diff_true**2))\n",
    "\n",
    "def to_ic50(x, max_ic50=50000.0):\n",
    "    return max_ic50 ** (1.0 - x)\n",
    "\n",
    "sample_weight=None,\n",
    "threshold_nm=500,\n",
    "max_ic50=50000"
   ]
  },
  {
   "cell_type": "code",
   "execution_count": 32,
   "metadata": {},
   "outputs": [],
   "source": [
    "blosum62 = pd.read_csv('../blosum_pam_data/BLOSUM62.txt', sep='\\s')\n",
    "blosum62 = blosum62.iloc[:-4,:-4]\n",
    "\n",
    "pam250 = pd.read_csv('../blosum_pam_data/PAM250.csv',index_col=0)"
   ]
  },
  {
   "cell_type": "code",
   "execution_count": 33,
   "metadata": {},
   "outputs": [],
   "source": [
    "PR_31 = pd.read_csv('../PP_PR_vector/PR_31.csv', index_col='properties').index\n",
    "PR_53 = pd.read_csv('../PP_PR_vector/PR_53.csv', index_col='properties').index\n",
    "PP_dic = pd.read_csv('../PP_PR_vector/PP_740.csv', header=0,index_col=0)\n",
    "PR_31_vectors = PP_dic.loc[PR_31].astype('float')\n",
    "PR_53_vectors = PP_dic.loc[PR_53].astype('float')\n",
    "PR_vector_dic = {\n",
    "    'PR_31_vectors': PR_31_vectors,\n",
    "    'PR_53_vectors': PR_53_vectors\n",
    "}\n",
    "PR_vectors = None\n",
    "for PR_name, PR in PR_vector_dic.items():\n",
    "    PR = PR.T\n",
    "    PR = ((PR - PR.min()) / (PR.max() - PR.min())).T\n",
    "    PR_vector_dic[PR_name] = PR"
   ]
  },
  {
   "cell_type": "code",
   "execution_count": 34,
   "metadata": {},
   "outputs": [],
   "source": [
    "def get_3d_feat(seq):\n",
    "    n = len(seq)\n",
    "    seq_pro = pd.DataFrame(PR_vectors[aa] for aa in seq).T\n",
    "    seq_pro = seq_pro.values[:, :, None]  #Two dimensions become three dimensions (31, 20, 1)\n",
    "    #x_i = np.transpose((seq_pro *np.transpose(seq_pro, [0, 2, 1])), [1, 2, 0])\n",
    "    #Multiply to the root\n",
    "    x_i = np.transpose((seq_pro * np.transpose(seq_pro, [0, 2, 1])), [1, 2, 0]) **.25\n",
    "    #Transpose three-dimensional transposition. (31, 20, 1) *(31, 1, 20) = (31, 20, 20), and then transposed into (20, 20, 31).\n",
    "    for k in range(x_i.shape[2]):\n",
    "        for i in range(n):\n",
    "            for j in range(i):\n",
    "                if k < 30:\n",
    "                    x_i[i,j,k] = (x_i[j,i,k] * x_i[j,i,k+1])**.5\n",
    "                else:\n",
    "                    x_i[i,j,k] = (x_i[j,i,k] * x_i[j,i,0])**.5\n",
    "    \n",
    "    x = np.pad(x_i, [(0, max_seq_len-n), (0, max_seq_len-n), (0, 0)]) #Fill with 0 Make the xshape corresponding to each sequence in the data set the same.\n",
    "\n",
    "    return x[ :, :, :, None]"
   ]
  },
  {
   "cell_type": "code",
   "execution_count": 35,
   "metadata": {},
   "outputs": [],
   "source": [
    "allele_ls = [\n",
    "    'HLA-B_0702',\n",
    "    'HLA-C_0401',\n",
    "    'HLA-C_0702'\n",
    "]"
   ]
  },
  {
   "cell_type": "code",
   "execution_count": 38,
   "metadata": {},
   "outputs": [
    {
     "name": "stdout",
     "output_type": "stream",
     "text": [
      "*************PR_31_vectors HLA-B_0702 predict start**************\n",
      "9/9 [==============================] - 0s 6ms/step\n",
      "*************PR_31_vectors HLA-B_0702 predict finished**************\n",
      "*************PR_31_vectors HLA-C_0401 predict start**************\n",
      "2/2 [==============================] - 0s 6ms/step\n",
      "*************PR_31_vectors HLA-C_0401 predict finished**************\n",
      "*************PR_31_vectors HLA-C_0702 predict start**************\n",
      "1/1 [==============================] - 0s 230ms/step\n",
      "*************PR_31_vectors HLA-C_0702 predict finished**************\n",
      "*************PR_53_vectors HLA-B_0702 predict start**************\n",
      "9/9 [==============================] - 0s 9ms/step\n",
      "*************PR_53_vectors HLA-B_0702 predict finished**************\n",
      "*************PR_53_vectors HLA-C_0401 predict start**************\n",
      "2/2 [==============================] - 0s 7ms/step\n",
      "*************PR_53_vectors HLA-C_0401 predict finished**************\n",
      "*************PR_53_vectors HLA-C_0702 predict start**************\n",
      "1/1 [==============================] - 0s 163ms/step\n",
      "*************PR_53_vectors HLA-C_0702 predict finished**************\n"
     ]
    },
    {
     "data": {
      "text/plain": [
       "27383"
      ]
     },
     "execution_count": 38,
     "metadata": {},
     "output_type": "execute_result"
    }
   ],
   "source": [
    "Test_dir = '../../processed_data/mhcflurry_test_no_mass_spec/data'\n",
    "\n",
    "middle_data_dir = 'PP_diversity_influence/middle_data'\n",
    "\n",
    "if not os.path.exists(middle_data_dir) : \n",
    "    os.makedirs(middle_data_dir)\n",
    "for PR_name, PR in PR_vector_dic.items():\n",
    "    PR_vectors = PR\n",
    "    for Allele in allele_ls:\n",
    "        tf_model_dir = os.path.join(f'PP_diversity_influence/tf_model/{PR_name}', Allele)\n",
    "        if not os.path.exists(tf_model_dir): \n",
    "            continue\n",
    "        if not os.path.exists(f'{Test_dir}/{Allele}.csv'): \n",
    "            continue\n",
    "        df_test = pd.read_csv(f'{Test_dir}/{Allele}.csv')\n",
    "        \n",
    "        print(f'*************{PR_name} {Allele} predict start**************')\n",
    "        \n",
    "        #Individual alleles may prompt the use of other numerical values,\n",
    "        #please adjust `max_seq_len`` according to the prompt information,\n",
    "        #and delete the middle data of the corresponding allele to regenerate it\n",
    "    \n",
    "        max_seq_len = 15\n",
    "    \n",
    "        #Generate X_test middle data\n",
    "        X_test_name = os.path.join(middle_data_dir, PR_name, f'{Allele}_X_test_'+'.data')\n",
    "        if not os.path.exists(X_test_name) :\n",
    "            X_test = []\n",
    "            for seq in df_test['peptide']:\n",
    "                X_test.append(get_3d_feat(seq))\n",
    "            X_test = np.stack(X_test)\n",
    "            dump(X_test, X_test_name)\n",
    "        else:\n",
    "            X_test = load(X_test_name)\n",
    "        X_test = X_test.astype('float32')\n",
    "\n",
    "        model = tf.keras.models.load_model(f'{tf_model_dir}')\n",
    "        \n",
    "        #make prediction\n",
    "        Y_test_pred = model.predict(X_test)\n",
    "        df_pred = pd.DataFrame(Y_test_pred.tolist()).rename(columns={0:'VRAPERNet_BAV_Normalized'})\n",
    "        df_test['VRAPERNet_BAV_Normalized'] = df_pred['VRAPERNet_BAV_Normalized']\n",
    "        df_test['VRAPERNet_BAV'] = df_pred['VRAPERNet_BAV_Normalized'].apply(to_ic50)\n",
    "        df_test.to_csv(f'PP_diversity_influence/prediction/{PR_name}/{Allele}.csv', index=False)\n",
    "        \n",
    "        del model\n",
    "\n",
    "        print(f'*************{PR_name} {Allele} predict finished**************')\n",
    "        \n",
    "gc.collect()\n"
   ]
  }
 ],
 "metadata": {
  "kernelspec": {
   "display_name": "vaccin",
   "language": "python",
   "name": "python3"
  },
  "language_info": {
   "codemirror_mode": {
    "name": "ipython",
    "version": 3
   },
   "file_extension": ".py",
   "mimetype": "text/x-python",
   "name": "python",
   "nbconvert_exporter": "python",
   "pygments_lexer": "ipython3",
   "version": "3.7.12"
  },
  "orig_nbformat": 4,
  "vscode": {
   "interpreter": {
    "hash": "616f56fef8ea7183d51ad2039e0213a0ade719c1a48fd338f6185e7423826c67"
   }
  }
 },
 "nbformat": 4,
 "nbformat_minor": 2
}
