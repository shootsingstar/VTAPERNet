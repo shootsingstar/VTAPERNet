{
 "cells": [
  {
   "cell_type": "code",
   "execution_count": 14,
   "metadata": {},
   "outputs": [],
   "source": [
    "import pandas as pd\n",
    "import numpy as np\n",
    "import os\n",
    "from sklearn.metrics import r2_score\n",
    "from sklearn.metrics import mean_absolute_error\n",
    "from sklearn.metrics import mean_squared_error\n",
    "import scipy.stats\n",
    "\n",
    "\n",
    "def PCC_score(y_pred,y_true):\n",
    "    diff_pred,diff_true=y_pred-np.mean(y_pred),y_true-np.mean(y_true)\n",
    "    return np.sum(diff_pred*diff_true)/np.sqrt(np.sum(diff_pred**2)*np.sum(diff_true**2))\n",
    "\n",
    "prediction_dir = 'prediction'\n",
    "\n",
    "# Calculation methods for each regression evaluation index\n",
    "\n",
    "# MAE = mean_absolute_error(y_true, y_pred)\n",
    "# MSE = mean_squared_error(y_true, y_pred)\n",
    "# RMSE = np.sqrt(MSE)\n",
    "# r2 = r2_score(y_true, y_pred)\n",
    "# PCC = PCC_score(y_true, y_pred)\n",
    "# The first element of tau is the Kendall correlation coefficient\n",
    "# tau = scipy.stats.kendalltau(y_true, y_pred)[0]"
   ]
  },
  {
   "cell_type": "code",
   "execution_count": 15,
   "metadata": {},
   "outputs": [],
   "source": [
    "def calculate_allele_score():    \n",
    "    df_results_score = pd.DataFrame(columns=['allele','allele_size', 'PP_diversity', 'PCC', 'r2', 'tau', 'RMSE', 'MAE', 'MSE'])\n",
    "\n",
    "    for PP_plan in os.listdir(prediction_dir):\n",
    "        for file in os.listdir(f'{prediction_dir}/{PP_plan}'):\n",
    "            allele = file.split('.')[0]\n",
    "            df_allele_prediction = pd.read_csv(os.path.join(prediction_dir, PP_plan, file))         \n",
    "            y_true = df_allele_prediction['Normalized_QM']\n",
    "            y_pred = df_allele_prediction['VRAPERNet_BAV_Normalized']\n",
    "            #Remove NaN and infinity values\n",
    "            y_true = y_true[np.isfinite(y_true) & np.isfinite(y_pred)].dropna()\n",
    "            y_pred = y_pred[np.isfinite(y_true) & np.isfinite(y_pred)].dropna()\n",
    "            MAE = mean_absolute_error(y_true, y_pred)\n",
    "            MSE = mean_squared_error(y_true, y_pred)\n",
    "            RMSE = np.sqrt(MSE)\n",
    "            r2 = r2_score(y_true, y_pred)\n",
    "            PCC = PCC_score(y_true, y_pred)\n",
    "            tau = scipy.stats.kendalltau(y_true, y_pred)[0]\n",
    "            df_results_score = df_results_score.append({'allele': allele, 'allele_size': len(df_allele_prediction), 'PP_diversity': PP_plan, 'PCC': PCC, 'r2': r2, 'tau': tau, 'MAE': MAE, 'MSE': MSE, 'RMSE': RMSE}, ignore_index=True)\n",
    "    df_results_score.to_csv('results_score.csv', index=False)        \n"
   ]
  },
  {
   "cell_type": "code",
   "execution_count": 16,
   "metadata": {},
   "outputs": [],
   "source": [
    "calculate_allele_score()"
   ]
  }
 ],
 "metadata": {
  "kernelspec": {
   "display_name": "molmap",
   "language": "python",
   "name": "python3"
  },
  "language_info": {
   "codemirror_mode": {
    "name": "ipython",
    "version": 3
   },
   "file_extension": ".py",
   "mimetype": "text/x-python",
   "name": "python",
   "nbconvert_exporter": "python",
   "pygments_lexer": "ipython3",
   "version": "3.7.12"
  }
 },
 "nbformat": 4,
 "nbformat_minor": 2
}
