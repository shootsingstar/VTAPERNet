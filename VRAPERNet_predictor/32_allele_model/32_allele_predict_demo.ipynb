{
 "cells": [
  {
   "cell_type": "code",
   "execution_count": 1,
   "metadata": {},
   "outputs": [],
   "source": [
    "import os, warnings\n",
    "warnings.filterwarnings('ignore')\n",
    "# NVIDIA SETTINGS \n",
    "# Please configure according to the situation of your own device\n",
    "os.environ['TF_CPP_MIN_LOG_LEVEL'] = '3'\n",
    "os.environ['CUDA_VISIBLE_DEVICES'] = '1'\n",
    "\n",
    "import tensorflow as tf\n",
    "import gc\n",
    "gpus = tf.config.experimental.list_physical_devices(device_type='GPU')\n",
    "for gpu in gpus:\n",
    "    tf.config.experimental.set_memory_growth(gpu, True)\n",
    "\n",
    "import pandas as pd\n",
    "import numpy as np\n",
    "\n",
    "from joblib import load, dump\n",
    "\n",
    "def r2_score(y_true,y_pred):\n",
    "    y_mean = np.mean(y_true)\n",
    "    r2 = 1-sum((y_true-y_pred)**2)/sum((y_mean-y_true)**2)\n",
    "    return r2\n",
    "\n",
    "def PCC(y_pred,y_true):\n",
    "    diff_pred,diff_true=y_pred-np.mean(y_pred),y_true-np.mean(y_true)\n",
    "    return np.sum(diff_pred*diff_true)/np.sqrt(np.sum(diff_pred**2)*np.sum(diff_true**2))\n",
    "\n",
    "def to_bav(x, max_bav=50000.0):\n",
    "    return max_bav ** (1.0 - x)\n",
    "\n",
    "sample_weight=None,\n",
    "threshold_nm=500,\n",
    "max_bav=50000"
   ]
  },
  {
   "attachments": {},
   "cell_type": "markdown",
   "metadata": {},
   "source": [
    "read `blosum62 matrix` and `pam250 matrix`"
   ]
  },
  {
   "cell_type": "code",
   "execution_count": 2,
   "metadata": {},
   "outputs": [],
   "source": [
    "blosum62 = pd.read_csv('../blosum_pam_data/BLOSUM62.txt', sep='\\s')\n",
    "blosum62 = blosum62.iloc[:-4,:-4]\n",
    "\n",
    "pam250 = pd.read_csv('../blosum_pam_data/PAM250.csv',index_col=0)"
   ]
  },
  {
   "cell_type": "code",
   "execution_count": 2,
   "metadata": {},
   "outputs": [],
   "source": [
    "#AApro normalization to 0~1\n",
    "PR = pd.read_csv('../PP_PR_vector/PR_61.csv', index_col='properties').index\n",
    "PP_dic = pd.read_csv('../PP_PR_vector/PP_740.csv', header=0,index_col=0)\n",
    "PR_vectors = PP_dic.loc[PR].astype('float')\n",
    "PR_vectors = PR_vectors.T\n",
    "PR_vectors = ((PR_vectors - PR_vectors.min()) / (PR_vectors.max() - PR_vectors.min())).T #normalization"
   ]
  },
  {
   "attachments": {},
   "cell_type": "markdown",
   "metadata": {},
   "source": [
    "Generation and splicing of sequence correlation aapro, blosum62, pam250 distance matrix"
   ]
  },
  {
   "cell_type": "code",
   "execution_count": 4,
   "metadata": {},
   "outputs": [],
   "source": [
    "def get_3d_feat(seq):\n",
    "    n = len(seq)\n",
    "\n",
    "    # Generate physical and chemical property matrix\n",
    "    seq_pro = pd.DataFrame(PR_vectors[aa] for aa in seq).T\n",
    "    seq_pro = seq_pro.values[:, :, None]  # Two dimensions become three dimensions (61, n, 1)\n",
    "    # Multiply\n",
    "    mt_pro = np.transpose((seq_pro * np.transpose(seq_pro, [0, 2, 1])), [1, 2, 0])\n",
    "    # transpose three-dimensional transposition. (61,n,1)*(61,1,n)=(61,n,n), and then transpose to (n,n,61).\n",
    "\n",
    "    # Generate blosum matrix\n",
    "    seq_blosum = np.ones((n,n))\n",
    "    for i in range(n):\n",
    "        a = seq[i]\n",
    "        for j in range(n):\n",
    "            b = seq[j]\n",
    "            seq_blosum[i][j] = blosum62.loc[a,b]\n",
    "    # Normalize the blosum62 matrix to 0~1\n",
    "    seq_blosum_nor = ((seq_blosum - seq_blosum.min()) / (seq_blosum.max() - seq_blosum.min()))\n",
    "    seq_blosum_nor = seq_blosum_nor[:, :, np.newaxis]  #(n,n,1)\n",
    "    \n",
    "    # Generate pam matrix\n",
    "    seq_pam = np.ones((n,n))\n",
    "    for i in range(n):\n",
    "        a = seq[i]\n",
    "        for j in range(n):\n",
    "            b = seq[j]\n",
    "            seq_pam[i][j] = pam250.loc[a,b]\n",
    "    # Normalize the pam250 mutation matrix to 0~1\n",
    "    seq_pam_nor = ((seq_pam - seq_pam.min()) / (seq_pam.max() - seq_pam.min()))\n",
    "    seq_pam_nor = seq_pam_nor[:, :, np.newaxis]  # (n,n,1)\n",
    "    \n",
    "    # Generate sequence distance matrix\n",
    "    pt_dis = np.ones((n,n))\n",
    "    for i in range(n):\n",
    "        for j in range(n):\n",
    "            pt_dis[i][j] = abs(i-j)\n",
    "    pt_dis = ((pt_dis - 0) / (n-1 - 0)) # Normalization (minimum value is 0, maximum value is n-1)\n",
    "    pt_dis = pt_dis[:, :, np.newaxis]  # (n,n,1)\n",
    "\n",
    "    #Change the lower half of the physical and chemical property matrix\n",
    "    for k in range(mt_pro.shape[2]):\n",
    "        for i in range(n):\n",
    "            for j in range(i):\n",
    "                if k < 60:                                      \n",
    "                    mt_pro[i,j,k] = (mt_pro[j,i,k] * mt_pro[j,i,k+1])**.5\n",
    "                else:\n",
    "                    mt_pro[i,j,k] = (mt_pro[j,i,k] * mt_pro[j,i,0])**.5\n",
    "\n",
    "    # Merge the sequence distance matrix with mt and place it on the first layer\n",
    "    mt = np.concatenate((pt_dis,seq_blosum_nor,seq_pam_nor,mt_pro),axis = 2)\n",
    "\n",
    "    #Fill with 0 to Make the xshape corresponding to each sequence in the data set the same.\n",
    "    x = np.pad(mt, [(0, max_seq_len-n), (0, max_seq_len-n), (0, 0)]) \n",
    "\n",
    "    return x[ :, :, :, None]"
   ]
  },
  {
   "cell_type": "markdown",
   "metadata": {},
   "source": [
    "predict on STDbenchmark"
   ]
  },
  {
   "cell_type": "code",
   "execution_count": null,
   "metadata": {},
   "outputs": [],
   "source": [
    "Test_dir = 'Your data directory which includes the peptide allele folder you want to predict'\n",
    "tf_model_dir = 'tf_model'\n",
    "\n",
    "for allele in os.listdir(Test_dir):\n",
    "    if allele not in os.listdir(tf_model_dir):\n",
    "        print(f'{allele} is not supportable')\n",
    "        continue\n",
    "    \n",
    "    df_test = pd.read_csv('your csv data directory of the current allele')  \n",
    "    \n",
    "    print(f'*************{allele} predict start**************')\n",
    "    \n",
    "    middle_data_dir = 'your middle data directory'\n",
    "    allele_fold = os.path.join(middle_data_dir, allele)\n",
    "\n",
    "    if not os.path.exists(allele_fold) : \n",
    "        os.makedirs(allele_fold)\n",
    "        \n",
    "    max_seq_len = 15\n",
    "    #HLA_0205 11\n",
    "    #HLA_3201 13\n",
    "    #HLA_2704 12\n",
    "    #HLA-B_2706 12\n",
    "    #HLB-B_3801 11\n",
    "   \n",
    "    # Generate middle data X_test \n",
    "    X_test_name = os.path.join(allele_fold, allele+'_X_test_'+'.data')\n",
    "    if not os.path.exists(X_test_name) :\n",
    "        X_test = []\n",
    "        for seq in df_test['peptide']:\n",
    "            X_test.append(get_3d_feat(seq))\n",
    "        X_test = np.stack(X_test)\n",
    "        dump(X_test, X_test_name)\n",
    "    else:\n",
    "        X_test = load(X_test_name)\n",
    "    X_test = X_test.astype('float32')\n",
    "    \n",
    "    model = tf.keras.models.load_model(f'{tf_model_dir}/{allele}')\n",
    "    # make prediction\n",
    "    Y_test_pred = model.predict(X_test)\n",
    "    df_pred = pd.DataFrame(Y_test_pred.tolist()).rename(columns={0:'Pred_Norm_QM'})\n",
    "    df_pred['Pred_QM'] = df_pred['Pred_Norm_QM'].apply(to_bav)\n",
    "    df_test['VRAPERNet_BAV_Normalized'] = df_pred['Pred_Norm_QM']\n",
    "    df_test['VRAPERNet_BAV'] = df_pred['Pred_QM']\n",
    "    df_test.to_csv(os.path.join(Test_dir, allele, 'tools_processed.csv'), index=False)\n",
    "    \n",
    "    del model\n",
    " \n",
    "    print(f'*************{allele} predict finished**************')\n",
    "gc.collect()\n"
   ]
  }
 ],
 "metadata": {
  "kernelspec": {
   "display_name": "vaccin",
   "language": "python",
   "name": "python3"
  },
  "language_info": {
   "codemirror_mode": {
    "name": "ipython",
    "version": 3
   },
   "file_extension": ".py",
   "mimetype": "text/x-python",
   "name": "python",
   "nbconvert_exporter": "python",
   "pygments_lexer": "ipython3",
   "version": "3.7.12"
  },
  "orig_nbformat": 4,
  "vscode": {
   "interpreter": {
    "hash": "616f56fef8ea7183d51ad2039e0213a0ade719c1a48fd338f6185e7423826c67"
   }
  }
 },
 "nbformat": 4,
 "nbformat_minor": 2
}
