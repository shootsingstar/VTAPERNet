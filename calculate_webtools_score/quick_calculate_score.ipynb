{
 "cells": [
  {
   "cell_type": "code",
   "execution_count": 1,
   "metadata": {},
   "outputs": [
    {
     "name": "stdout",
     "output_type": "stream",
     "text": [
      "R-squared: 0.7045187756160014\n",
      "Pearson correlation coefficient: 0.8793745656776544\n",
      "Kendall's tau: 0.6598478402693189\n"
     ]
    }
   ],
   "source": [
    "import pandas as pd\n",
    "from sklearn.metrics import r2_score\n",
    "from scipy.stats import pearsonr, kendalltau\n",
    "\n",
    "# Read the CSV file\n",
    "data = pd.read_csv('STDbenchmark/results_score/total_prediction.csv')\n",
    "\n",
    "# Extract the two columns for calculation\n",
    "x = data['Normalized_QM']\n",
    "y = data['VRAPERNet_BAV_Normalized']\n",
    "\n",
    "# Calculate R-squared\n",
    "r2 = r2_score(x, y)\n",
    "\n",
    "# Calculate Pearson correlation coefficient\n",
    "pcc, _ = pearsonr(x, y)\n",
    "\n",
    "# Calculate Kendall's tau\n",
    "tau, _ = kendalltau(x, y)\n",
    "\n",
    "# Print the results\n",
    "print(\"R-squared:\", r2)\n",
    "print(\"Pearson correlation coefficient:\", pcc)\n",
    "print(\"Kendall's tau:\", tau)\n"
   ]
  }
 ],
 "metadata": {
  "kernelspec": {
   "display_name": "molmap",
   "language": "python",
   "name": "python3"
  },
  "language_info": {
   "codemirror_mode": {
    "name": "ipython",
    "version": 3
   },
   "file_extension": ".py",
   "mimetype": "text/x-python",
   "name": "python",
   "nbconvert_exporter": "python",
   "pygments_lexer": "ipython3",
   "version": "3.7.12"
  }
 },
 "nbformat": 4,
 "nbformat_minor": 2
}
